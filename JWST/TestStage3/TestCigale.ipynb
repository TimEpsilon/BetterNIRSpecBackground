{
 "cells": [
  {
   "cell_type": "code",
   "execution_count": 34,
   "id": "01ef450e",
   "metadata": {},
   "outputs": [],
   "source": [
    "import os\n",
    "from glob import glob\n",
    "from astropy.io import fits\n",
    "import stdatamodels.jwst.datamodels as dm\n",
    "from astropy.table import QTable\n",
    "import astropy.units as u\n",
    "import numpy as np\n",
    "import matplotlib.pyplot as plt"
   ]
  },
  {
   "cell_type": "code",
   "execution_count": 67,
   "id": "3df38d78",
   "metadata": {},
   "outputs": [],
   "source": [
    "folder = \"../mastDownload/JWST/CEERS-NIRSPEC-P5-PRISM-MSATA/Final/\"\n",
    "ids = []\n",
    "paths = []\n",
    "modes = []\n",
    "\n",
    "for file in glob(os.path.join(folder, '*_x1d.fits')):\n",
    "    data = fits.open(file)\n",
    "    if len(data[1].header[\"SHUTSTA\"]) != 3:\n",
    "        continue\n",
    "    ids.append(f\"nirspec_{data[1].header['SOURCEID']}\")\n",
    "    paths.append(file)\n",
    "    modes.append(data[0].header[\"GRATING\"].lower())\n",
    "    \n",
    "redshift = [-1 for _ in range(len(ids))]\n",
    "norm = [\"wave\" for _ in range(len(ids))]\n",
    "\n",
    "table = QTable([ids, redshift, paths, modes, norm],\n",
    "           names=('id', 'redshift', 'spectrum', 'mode', 'norm'))\n",
    "\n",
    "table.write(folder+'data.fits', overwrite=True)"
   ]
  },
  {
   "cell_type": "code",
   "execution_count": 20,
   "id": "223d1523",
   "metadata": {},
   "outputs": [
    {
     "name": "stdout",
     "output_type": "stream",
     "text": [
      "PRIMARY\n",
      "EXTRACT1D\n",
      "ASDF\n"
     ]
    }
   ],
   "source": [
    "print(data[0].name)\n",
    "print(data[1].name)\n",
    "print(data[2].name)"
   ]
  },
  {
   "cell_type": "code",
   "execution_count": null,
   "id": "a0f5272f",
   "metadata": {},
   "outputs": [],
   "source": []
  }
 ],
 "metadata": {
  "kernelspec": {
   "display_name": "jwst_latest",
   "language": "python",
   "name": "jwst_latest"
  },
  "language_info": {
   "codemirror_mode": {
    "name": "ipython",
    "version": 3
   },
   "file_extension": ".py",
   "mimetype": "text/x-python",
   "name": "python",
   "nbconvert_exporter": "python",
   "pygments_lexer": "ipython3",
   "version": "3.11.8"
  }
 },
 "nbformat": 4,
 "nbformat_minor": 5
}
