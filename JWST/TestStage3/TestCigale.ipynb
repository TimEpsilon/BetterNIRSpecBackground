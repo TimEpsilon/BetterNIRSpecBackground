{
 "cells": [
  {
   "cell_type": "code",
   "execution_count": 73,
   "id": "9b75e228",
   "metadata": {},
   "outputs": [],
   "source": [
    "import os\n",
    "from glob import glob\n",
    "from astropy.io import fits\n",
    "import stdatamodels.jwst.datamodels as dm\n",
    "from astropy.table import QTable, vstack\n",
    "import astropy.units as u\n",
    "import numpy as np\n",
    "import matplotlib.pyplot as plt"
   ]
  },
  {
   "cell_type": "code",
   "execution_count": 74,
   "id": "b7c91e4c",
   "metadata": {},
   "outputs": [
    {
     "name": "stdout",
     "output_type": "stream",
     "text": [
      "      id      redshift ...  mode norm\n",
      "------------- -------- ... ----- ----\n",
      "    nirspec_2       -1 ... prism wave\n",
      "    nirspec_3       -1 ... prism wave\n",
      "    nirspec_6       -1 ... prism wave\n",
      "    nirspec_7       -1 ... prism wave\n",
      "    nirspec_9       -1 ... prism wave\n",
      "   nirspec_12       -1 ... prism wave\n",
      "   nirspec_21       -1 ... prism wave\n",
      "   nirspec_23       -1 ... prism wave\n",
      "   nirspec_24       -1 ... prism wave\n",
      "   nirspec_28       -1 ... prism wave\n",
      "          ...      ... ...   ...  ...\n",
      "nirspec_41989       -1 ... prism wave\n",
      "nirspec_42346       -1 ... prism wave\n",
      "nirspec_42379       -1 ... prism wave\n",
      "nirspec_42475       -1 ... prism wave\n",
      "nirspec_42752       -1 ... prism wave\n",
      "nirspec_43262       -1 ... prism wave\n",
      "nirspec_43450       -1 ... prism wave\n",
      "nirspec_43461       -1 ... prism wave\n",
      "nirspec_44055       -1 ... prism wave\n",
      "nirspec_44309       -1 ... prism wave\n",
      "Length = 218 rows\n",
      "      id      redshift ...  mode norm\n",
      "------------- -------- ... ----- ----\n",
      "    nirspec_2       -1 ... prism wave\n",
      "    nirspec_3       -1 ... prism wave\n",
      "    nirspec_6       -1 ... prism wave\n",
      "    nirspec_7       -1 ... prism wave\n",
      "    nirspec_9       -1 ... prism wave\n",
      "   nirspec_12       -1 ... prism wave\n",
      "   nirspec_21       -1 ... prism wave\n",
      "   nirspec_23       -1 ... prism wave\n",
      "   nirspec_24       -1 ... prism wave\n",
      "   nirspec_28       -1 ... prism wave\n",
      "          ...      ... ...   ...  ...\n",
      "nirspec_41989       -1 ... prism wave\n",
      "nirspec_42346       -1 ... prism wave\n",
      "nirspec_42379       -1 ... prism wave\n",
      "nirspec_42475       -1 ... prism wave\n",
      "nirspec_42752       -1 ... prism wave\n",
      "nirspec_43262       -1 ... prism wave\n",
      "nirspec_43450       -1 ... prism wave\n",
      "nirspec_43461       -1 ... prism wave\n",
      "nirspec_44055       -1 ... prism wave\n",
      "nirspec_44309       -1 ... prism wave\n",
      "Length = 436 rows\n"
     ]
    }
   ],
   "source": [
    "folder = \"../mastDownload/JWST/CEERS-NIRSPEC-P5-PRISM-MSATA/Final/\"\n",
    "ids = []\n",
    "paths = []\n",
    "modes = []\n",
    "\n",
    "for file in glob(os.path.join(folder, '*_x1d.fits')):\n",
    "    data = fits.open(file)\n",
    "    if len(data[1].header[\"SHUTSTA\"]) != 3:\n",
    "        continue\n",
    "    ids.append(f\"nirspec_{data[1].header['SOURCEID']}\")\n",
    "    paths.append(file)\n",
    "    modes.append(data[0].header[\"GRATING\"].lower())\n",
    "    print()\n",
    "    \n",
    "redshift = [-1 for _ in range(len(ids))]\n",
    "norm = [\"wave\" for _ in range(len(ids))]\n",
    "\n",
    "table = QTable([ids, redshift, paths, modes, norm],\n",
    "           names=('id', 'redshift', 'spectrum', 'mode', 'norm'))\n",
    "\n",
    "print(table)\n",
    "table = vstack([table,table])\n",
    "\n",
    "print(table)\n",
    "\n"
   ]
  },
  {
   "cell_type": "code",
   "execution_count": 20,
   "id": "e5855131",
   "metadata": {},
   "outputs": [
    {
     "name": "stdout",
     "output_type": "stream",
     "text": [
      "PRIMARY\n",
      "EXTRACT1D\n",
      "ASDF\n"
     ]
    }
   ],
   "source": [
    "print(data[0].name)\n",
    "print(data[1].name)\n",
    "print(data[2].name)"
   ]
  },
  {
   "cell_type": "code",
   "execution_count": null,
   "id": "793d4ebd",
   "metadata": {},
   "outputs": [],
   "source": []
  }
 ],
 "metadata": {
  "kernelspec": {
   "display_name": "jwst_latest",
   "language": "python",
   "name": "jwst_latest"
  },
  "language_info": {
   "codemirror_mode": {
    "name": "ipython",
    "version": 3
   },
   "file_extension": ".py",
   "mimetype": "text/x-python",
   "name": "python",
   "nbconvert_exporter": "python",
   "pygments_lexer": "ipython3",
   "version": "3.11.8"
  }
 },
 "nbformat": 4,
 "nbformat_minor": 5
}
