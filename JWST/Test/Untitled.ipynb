{
 "cells": [
  {
   "cell_type": "code",
   "execution_count": 35,
   "id": "36fa32c8",
   "metadata": {},
   "outputs": [],
   "source": [
    "import os\n",
    "os.environ['CRDS_PATH'] = '../crds_cache'\n",
    "os.environ['CRDS_SERVER_URL'] = 'https://jwst-crds.stsci.edu'\n",
    "import stdatamodels.jwst.datamodels as dm\n",
    "from jwst.extract_1d import Extract1dStep as x1d\n",
    "import matplotlib.pyplot as plt\n",
    "from astropy.io import fits"
   ]
  },
  {
   "cell_type": "code",
   "execution_count": 54,
   "id": "e953229c",
   "metadata": {
    "scrolled": false
   },
   "outputs": [
    {
     "name": "stderr",
     "output_type": "stream",
     "text": [
      "2024-06-12 11:30:59,515 - stpipe.Extract1dStep - INFO - Extract1dStep instance created.\n",
      "2024-06-12 11:30:59,735 - stpipe.Extract1dStep - INFO - Step Extract1dStep running with args ('jw01345-o063_s04402_nirspec_clear-prism_s2d.fits',).\n",
      "2024-06-12 11:30:59,738 - stpipe.Extract1dStep - INFO - Step Extract1dStep parameters are:\n",
      "  pre_hooks: []\n",
      "  post_hooks: []\n",
      "  output_file: None\n",
      "  output_dir: None\n",
      "  output_ext: .fits\n",
      "  output_use_model: False\n",
      "  output_use_index: True\n",
      "  save_results: True\n",
      "  skip: False\n",
      "  suffix: x1d\n",
      "  search_output_file: True\n",
      "  input_dir: ''\n",
      "  smoothing_length: None\n",
      "  bkg_fit: None\n",
      "  bkg_order: None\n",
      "  bkg_sigma_clip: 3.0\n",
      "  log_increment: 50\n",
      "  subtract_background: None\n",
      "  use_source_posn: False\n",
      "  center_xy: None\n",
      "  apply_apcorr: True\n",
      "  ifu_autocen: False\n",
      "  ifu_rfcorr: False\n",
      "  ifu_set_srctype: None\n",
      "  ifu_rscale: None\n",
      "  soss_atoca: True\n",
      "  soss_threshold: 0.01\n",
      "  soss_n_os: 2\n",
      "  soss_wave_grid_in: None\n",
      "  soss_wave_grid_out: None\n",
      "  soss_estimate: None\n",
      "  soss_rtol: 0.0001\n",
      "  soss_max_grid_size: 20000\n",
      "  soss_transform: None\n",
      "  soss_tikfac: None\n",
      "  soss_width: 40.0\n",
      "  soss_bad_pix: masking\n",
      "  soss_modelname: None\n",
      "2024-06-12 11:31:00,298 - stpipe.Extract1dStep - INFO - Using EXTRACT1D reference file ../crds_cache/references/jwst/nirspec/jwst_nirspec_extract1d_0009.json\n",
      "2024-06-12 11:31:00,449 - stpipe.Extract1dStep - INFO - Using APCORR file ../crds_cache/references/jwst/nirspec/jwst_nirspec_apcorr_0004.fits\n",
      "2024-06-12 11:31:00,493 - stpipe.Extract1dStep - INFO - Processing spectral order 0\n",
      "2024-06-12 11:31:00,515 - stpipe.Extract1dStep - INFO - Using extraction limits: xstart=0, xstop=424, ystart=13.0, ystop=18.0\n",
      "2024-06-12 11:31:00,634 - stpipe.Extract1dStep - INFO - Applying Aperture correction.\n",
      "2024-06-12 11:31:01,400 - stpipe.Extract1dStep - INFO - Results used CRDS context: jwst_1238.pmap\n",
      "2024-06-12 11:31:01,535 - stpipe.Extract1dStep - INFO - Saved model in jw01345-o063_s04402_nirspec_clear-prism_x1d.fits\n",
      "2024-06-12 11:31:01,536 - stpipe.Extract1dStep - INFO - Step Extract1dStep done\n"
     ]
    }
   ],
   "source": [
    "step = x1d()\n",
    "step.use_source_posn = False\n",
    "step.save_results = True\n",
    "step.suffix = \"x1d\"\n",
    "_ = step(\"jw01345-o063_s04402_nirspec_clear-prism_s2d.fits\")"
   ]
  },
  {
   "cell_type": "code",
   "execution_count": 53,
   "id": "26b93f08",
   "metadata": {
    "scrolled": false
   },
   "outputs": [
    {
     "ename": "IndexError",
     "evalue": "list index out of range",
     "output_type": "error",
     "traceback": [
      "\u001b[0;31m---------------------------------------------------------------------------\u001b[0m",
      "\u001b[0;31mIndexError\u001b[0m                                Traceback (most recent call last)",
      "Cell \u001b[0;32mIn[53], line 2\u001b[0m\n\u001b[1;32m      1\u001b[0m \u001b[38;5;28;01mwith\u001b[39;00m dm\u001b[38;5;241m.\u001b[39mopen(\u001b[38;5;124m\"\u001b[39m\u001b[38;5;124mjw01345-o063_s04402_nirspec_clear-prism_x1d.fits\u001b[39m\u001b[38;5;124m\"\u001b[39m) \u001b[38;5;28;01mas\u001b[39;00m hdul:\n\u001b[0;32m----> 2\u001b[0m     src_start \u001b[38;5;241m=\u001b[39m hdul\u001b[38;5;241m.\u001b[39mspec[\u001b[38;5;241m0\u001b[39m]\u001b[38;5;241m.\u001b[39mextraction_ystart\n\u001b[1;32m      3\u001b[0m     src_stop \u001b[38;5;241m=\u001b[39m hdul\u001b[38;5;241m.\u001b[39mspec[\u001b[38;5;241m0\u001b[39m]\u001b[38;5;241m.\u001b[39mextraction_ystop\n\u001b[1;32m      4\u001b[0m     plt\u001b[38;5;241m.\u001b[39mfigure()\n",
      "File \u001b[0;32m~/anaconda3/envs/jwst_latest/lib/python3.11/site-packages/stdatamodels/properties.py:441\u001b[0m, in \u001b[0;36mListNode.__getitem__\u001b[0;34m(self, i)\u001b[0m\n\u001b[1;32m    439\u001b[0m \u001b[38;5;28;01mdef\u001b[39;00m \u001b[38;5;21m__getitem__\u001b[39m(\u001b[38;5;28mself\u001b[39m, i):\n\u001b[1;32m    440\u001b[0m     schema \u001b[38;5;241m=\u001b[39m _get_schema_for_index(\u001b[38;5;28mself\u001b[39m\u001b[38;5;241m.\u001b[39m_schema, i)\n\u001b[0;32m--> 441\u001b[0m     \u001b[38;5;28;01mreturn\u001b[39;00m _make_node(\u001b[38;5;28mself\u001b[39m\u001b[38;5;241m.\u001b[39m_name, \u001b[38;5;28mself\u001b[39m\u001b[38;5;241m.\u001b[39m_instance[i], schema, \u001b[38;5;28mself\u001b[39m\u001b[38;5;241m.\u001b[39m_ctx, \u001b[38;5;28mself\u001b[39m)\n",
      "\u001b[0;31mIndexError\u001b[0m: list index out of range"
     ]
    }
   ],
   "source": [
    "with dm.open(\"jw01345-o063_s04402_nirspec_clear-prism_x1d.fits\") as hdul:\n",
    "    src_start = hdul.spec[0].extraction_ystart\n",
    "    src_stop = hdul.spec[0].extraction_ystop\n",
    "    plt.figure()\n",
    "    plt.plot(hdul.spec[0].spec_table[\"WAVELENGTH\"],hdul.spec[0].spec_table[\"FLUX\"])\n",
    "\n",
    "\n",
    "plt.figure(figsize=(20,5))\n",
    "with fits.open(\"jw01345-o063_s04402_nirspec_clear-prism_s2d.fits\") as hdul:\n",
    "    data = hdul[1].data\n",
    "plt.imshow(data,origin=\"lower\",interpolation=\"none\")\n",
    "plt.hlines((src_start,src_stop),0,data.shape[1],color='r',linestyle='dashed')\n",
    "plt.hlines((bkg_start,bkg_stop),0,data.shape[1],color='b',linestyle='dashed')\n",
    "plt.show()"
   ]
  },
  {
   "cell_type": "code",
   "execution_count": 64,
   "id": "b2b37d0f",
   "metadata": {},
   "outputs": [
    {
     "name": "stdout",
     "output_type": "stream",
     "text": [
      "85 (28, 424)\n"
     ]
    }
   ],
   "source": [
    "with fits.open(\"../mastDownload/JWST/CEERS-NIRSPEC-P5-PRISM-MSATA/jw01345063001_03101_00001_nrs2_srctype.fits\") as hdul:\n",
    "    for i,_ in enumerate(hdul):\n",
    "        if _.name == \"SCI\":\n",
    "            if _.header[\"SOURCEID\"] == 32304:\n",
    "                print(i, _.data.shape)\n",
    "        "
   ]
  },
  {
   "cell_type": "code",
   "execution_count": null,
   "id": "408c85dd",
   "metadata": {},
   "outputs": [],
   "source": []
  }
 ],
 "metadata": {
  "kernelspec": {
   "display_name": "jwst_latest",
   "language": "python",
   "name": "jwst_latest"
  },
  "language_info": {
   "codemirror_mode": {
    "name": "ipython",
    "version": 3
   },
   "file_extension": ".py",
   "mimetype": "text/x-python",
   "name": "python",
   "nbconvert_exporter": "python",
   "pygments_lexer": "ipython3",
   "version": "3.11.8"
  }
 },
 "nbformat": 4,
 "nbformat_minor": 5
}
