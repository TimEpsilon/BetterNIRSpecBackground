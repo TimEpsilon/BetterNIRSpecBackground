{
 "cells": [
  {
   "cell_type": "code",
   "id": "initial_id",
   "metadata": {
    "collapsed": true,
    "ExecuteTime": {
     "end_time": "2025-01-16T10:37:43.725406Z",
     "start_time": "2025-01-16T10:37:42.288283Z"
    }
   },
   "source": [
    "import numpy as np\n",
    "import stdatamodels.jwst.datamodels as dm\n",
    "import matplotlib.pyplot as plt\n",
    "import os\n",
    "\n",
    "os.environ['CRDS_PATH'] = \"/home/tim-dewachter/Documents/Thèse/BetterNIRSpecBackground/CRDS/\"\n",
    "os.environ['CRDS_SERVER_URL'] = 'https://jwst-crds.stsci.edu'\n",
    "\n",
    "from glob import glob\n",
    "from astropy.visualization import ZScaleInterval\n",
    "from astropy.io import fits\n",
    "from matplotlib.colors import LogNorm\n",
    "from matplotlib.widgets import Slider\n",
    "\n",
    "from jwst.pipeline import Spec2Pipeline, Spec3Pipeline, Detector1Pipeline\n",
    "from BNBG.utils import getSourcePosition\n",
    "\n",
    "directory = \"/home/tim-dewachter/Documents/Thèse/BetterNIRSpecBackground/mastDownload/JWST/CEERS-NIRSPEC-P5-PRISM-MSATA/TestSingleSlit/\""
   ],
   "outputs": [],
   "execution_count": 3
  },
  {
   "metadata": {},
   "cell_type": "markdown",
   "source": "# Keep only one source for faster tests",
   "id": "ea48cd267ba29f4f"
  },
  {
   "metadata": {},
   "cell_type": "code",
   "source": [
    "def keepOnlySource(model, srcid):\n",
    "\tslits = []\n",
    "\tfor i in range(len(model.slits)):\n",
    "\t\t_ = model.slits.pop(0)\n",
    "\t\tif _.source_id == srcid:\n",
    "\t\t\tslits.append(_)\n",
    "\n",
    "\tfor slit in slits:\n",
    "\t\tmodel.slits.append(slit)\n",
    "\treturn model"
   ],
   "id": "e6a3ba0ec2898063",
   "outputs": [],
   "execution_count": null
  },
  {
   "metadata": {},
   "cell_type": "code",
   "source": [
    "msa = fits.open(directory + \"jw01345063001_01_msa.fits\")\n",
    "\n",
    "msa[2].data = msa[2].data[msa[2].data[\"source_id\"] == 22800]\n",
    "msa[3].data = msa[3].data[msa[3].data[\"source_id\"] == 22800]\n",
    "\n",
    "msa.writeto(directory + \"jw01345063001_01_msa.fits\", overwrite=True)\n"
   ],
   "id": "11e73dab195f0ba0",
   "outputs": [],
   "execution_count": null
  },
  {
   "metadata": {},
   "cell_type": "markdown",
   "source": "# Det 1 Stage",
   "id": "f2daf0634941d25a"
  },
  {
   "metadata": {},
   "cell_type": "code",
   "source": [
    "uncal_list = glob(directory + \"*_uncal.fits\")\n",
    "\n",
    "for uncal in uncal_list:\n",
    "\tsteps = {\n",
    "                    'jump': {'expand_large_events': True,\n",
    "                             # 1st flag groups after jump above DN threshold.\n",
    "                             'after_jump_flag_dn1': 0,\n",
    "                             # 1st flag groups after jump groups within\n",
    "                             # specified time.\n",
    "                             'after_jump_flag_time1': 0,\n",
    "                             # 2nd flag groups after jump above DN threshold.\n",
    "                             'after_jump_flag_dn2': 0,\n",
    "                             # 2nd flag groups after jump groups within\n",
    "                             # specified time.\n",
    "                             'after_jump_flag_time2': 0,\n",
    "                             # Minimum required area for the central saturation\n",
    "                             # of snowballs.\n",
    "                             'min_sat_area': 15.0,\n",
    "                             # Minimum area to trigger large events processing.\n",
    "                             'min_jump_area': 15.0,\n",
    "                             # The expansion factor for the enclosing circles\n",
    "                             # or ellipses.\n",
    "                             'expand_factor': 20.0},\n",
    "                }\n",
    "\tdet1 = Detector1Pipeline(steps=steps)\n",
    "\tfor step in det1.steps:\n",
    "\t\tgetattr(det1, step).save_results = True\n",
    "\tdet1.output_dir = directory + \"Stage1/\"\n",
    "\tdet1.save_results = True\n",
    "\tdet1.run(uncal)"
   ],
   "id": "3040dfd8a54a6839",
   "outputs": [],
   "execution_count": null
  },
  {
   "metadata": {},
   "cell_type": "code",
   "source": [
    "det1_files = glob(directory + \"Stage1/*\")\n",
    "det1_files.sort(key=os.path.getmtime)\n",
    "datalist = []\n",
    "\n",
    "ylim = (1567, 1992)\n",
    "xlim = (386, 411)\n",
    "\n",
    "for file in det1_files:\n",
    "\tfile = fits.open(file)\n",
    "\n",
    "\tif len(file[1].data.shape) == 2:\n",
    "\t\tdata = file[1].data[xlim[0]:xlim[1], ylim[0]:ylim[1]]\n",
    "\n",
    "\tif len(file[1].data.shape) == 3:\n",
    "\t\tdata = file[1].data[0, xlim[0]:xlim[1], ylim[0]:ylim[1]]\n",
    "\n",
    "\tif len(file[1].data.shape) == 4:\n",
    "\t\tdata = file[1].data[0, 13, xlim[0]:xlim[1], ylim[0]:ylim[1]]\n",
    "\n",
    "\tz1,z2 = ZScaleInterval().get_limits(data)\n",
    "\tplt.figure(figsize=(10, 2))\n",
    "\tplt.subplot(211)\n",
    "\tplt.imshow(data, cmap=\"plasma\", vmin=z1, vmax=z2)\n",
    "\tplt.title(os.path.basename(file.filename())[31:])\n",
    "\n",
    "\tif len(datalist) > 0:\n",
    "\t\tresidual = data - datalist[-1]\n",
    "\t\tz1,z2 = ZScaleInterval().get_limits(residual)\n",
    "\t\tplt.subplot(212)\n",
    "\t\tplt.imshow(residual, cmap=\"seismic\", vmin=z1, vmax=z2)\n",
    "\n",
    "\tplt.show()\n",
    "\tdatalist.append(data)\n",
    "\n",
    "\tfile.close()"
   ],
   "id": "d3a62a78933eb114",
   "outputs": [],
   "execution_count": null
  },
  {
   "metadata": {},
   "cell_type": "code",
   "source": [
    "from jwst.jump import JumpStep\n",
    "\n",
    "dark = [_ for _ in det1_files if \"dark_current\" in _][0]\n",
    "dark = dm.open(dark)"
   ],
   "id": "524e09d8d7c191b4",
   "outputs": [],
   "execution_count": null
  },
  {
   "metadata": {},
   "cell_type": "code",
   "source": [
    "jump = JumpStep()\n",
    "jump.expand_large_events = True\n",
    "jump.after_jump_flag_dn1 = 0\n",
    "jump.after_jump_flag_time1 = 0\n",
    "jump.after_jump_flag_dn2 = 0\n",
    "jump.after_jump_flag_time2 = 0\n",
    "jump.min_sat_area = 15.0\n",
    "jump.min_jump_area = 15.0\n",
    "jump.expand_factor = 20.0\n",
    "j = jump.run(dark)\n",
    "\n",
    "plt.figure(figsize=(14, 2))\n",
    "_ = dm.open([_ for _ in det1_files if \"jump\" in _][0])\n",
    "data1 = _.data[0,13,xlim[0]:xlim[1], ylim[0]:ylim[1]]\n",
    "z1,z2 = ZScaleInterval().get_limits(data1)\n",
    "plt.imshow(data1, cmap=\"plasma\", vmin=z1, vmax=z2, interpolation='none')\n",
    "plt.show()\n",
    "\n",
    "plt.figure(figsize=(14, 2))\n",
    "data2 = j.data[0,13,xlim[0]:xlim[1], ylim[0]:ylim[1]]\n",
    "z1,z2 = ZScaleInterval().get_limits(data2)\n",
    "plt.imshow(data2, cmap=\"plasma\", vmin=z1, vmax=z2, interpolation='none')\n",
    "plt.show()\n",
    "\n",
    "plt.figure(figsize=(14, 2))\n",
    "data = data1 - data2\n",
    "z1,z2 = ZScaleInterval().get_limits(data)\n",
    "plt.imshow(data, cmap=\"seismic\", vmin=z1, vmax=z2, interpolation='none')\n",
    "plt.show()\n",
    "\n"
   ],
   "id": "c7280de0dddb9fb9",
   "outputs": [],
   "execution_count": null
  },
  {
   "metadata": {},
   "cell_type": "markdown",
   "source": "# Treat both with and without subtraction",
   "id": "27c433b17e2081cd"
  },
  {
   "metadata": {},
   "cell_type": "code",
   "source": [
    "uncal_list = glob(directory + \"*_uncal.fits\")\n",
    "\n",
    "for uncal in uncal_list:\n",
    "\tdet1 = Detector1Pipeline()\n",
    "\tdet1.output_dir = directory\n",
    "\tdet1.save_results = True\n",
    "\tdet1.run(uncal)"
   ],
   "id": "b22945e2cbe37a0b",
   "outputs": [],
   "execution_count": null
  },
  {
   "metadata": {},
   "cell_type": "code",
   "source": [
    "asn_list = glob(directory + \"*spec2*asn*\")\n",
    "for asn in asn_list:\n",
    "\tsteps = {\"bkg_subtract\" : {\"skip\":True},\n",
    "\t\t\t \"flat_field\" : {\"save_interpolated_flat\" : True, \"save_results\": True},\n",
    "\t\t\t \"badpix_selfcal\" : {\"skip\":False, \"save_results\": True},\n",
    "\t\t\t \"pathloss\" : {\"save_results\": True}}\n",
    "\tspec2 = Spec2Pipeline(steps=steps)\n",
    "\tspec2.output_dir = directory + \"NoSub/\"\n",
    "\tspec2.save_results = True\n",
    "\tspec2.run(asn)\n",
    "\n",
    "\tsteps = {\"bkg_subtract\" : {\"skip\":False},\n",
    "\t\t\t \"flat_field\" : {\"save_interpolated_flat\" : True},\n",
    "\t\t\t \"badpix_selfcal\" : {\"skip\":False}}\n",
    "\tspec2 = Spec2Pipeline(steps=steps)\n",
    "\tspec2.output_dir = directory + \"Default/\"\n",
    "\tspec2.save_results = True\n",
    "\tspec2.run(asn)\n",
    "\n",
    "for folder in [\"Default/\", \"NoSub/\"]:\n",
    "\tasn = directory + folder + \"jw01345-o063_20241001t101453_spec3_00001_asn.json\"\n",
    "\tsteps = {\"resample_spec\": {\"weight_type\" : \"exptime\"}}\n",
    "\tspec3 = Spec3Pipeline()\n",
    "\tspec3.output_dir = directory + folder\n",
    "\tspec3.save_results = True\n",
    "\tspec3.run(asn)"
   ],
   "id": "abdf38864305960c",
   "outputs": [],
   "execution_count": null
  },
  {
   "metadata": {},
   "cell_type": "markdown",
   "source": "# Read output logs",
   "id": "a5d9b92d1f664e58"
  },
  {
   "metadata": {},
   "cell_type": "code",
   "source": [
    "def removeDate(input_file):\n",
    "\twith open(input_file, \"r\") as file:\n",
    "\t\tlines = file.readlines()\n",
    "\n",
    "\t# Process the lines\n",
    "\tprocessed_lines = []\n",
    "\tfor line in lines:\n",
    "\t\tif \"stpipe.\" in line:\n",
    "\t\t\ttruncated_line = line.split(\"stpipe.\", 1)[1]  # Keep everything after \"stpipe.\"\n",
    "\t\t\ttruncated_line = \"stpipe.\" + truncated_line  # Add \"stpipe.\" back at the beginning\n",
    "\t\t\tprocessed_lines.append(truncated_line)\n",
    "\t\telse:\n",
    "\t\t\tprocessed_lines.append(line)  # Keep lines unchanged if \"stpipe.\" not found\n",
    "\n",
    "\t# Write the processed lines to a new file\n",
    "\twith open(input_file, \"w\") as file:\n",
    "\t\tfile.writelines(processed_lines)\n",
    "\n",
    "removeDate(directory+\"nosub.log\")\n",
    "removeDate(directory+\"default.log\")\n"
   ],
   "id": "af793986aca2f252",
   "outputs": [],
   "execution_count": null
  },
  {
   "metadata": {},
   "cell_type": "code",
   "source": [
    "import difflib\n",
    "\n",
    "with open(directory+\"nosub.log\", \"r\") as f1, open(directory+\"default.log\", \"r\") as f2:\n",
    "\tlines1 = f1.readlines()\n",
    "\tlines2 = f2.readlines()\n",
    "\n",
    "# Use difflib to compare the lines\n",
    "differ = difflib.unified_diff(lines1, lines2, lineterm=\"\", n=0)\n",
    "\n",
    "# Print the differences\n",
    "print(\"Differences between the files:\")\n",
    "for line in differ:\n",
    "\tif \"@@\" in line:\n",
    "\t\tprint(\"\\n\")\n",
    "\tprint(line.strip())\n"
   ],
   "id": "acb244c8c16588ad",
   "outputs": [],
   "execution_count": null
  },
  {
   "metadata": {},
   "cell_type": "markdown",
   "source": "# Compare both stage 2 cal files",
   "id": "7796639906345d98"
  },
  {
   "metadata": {},
   "cell_type": "code",
   "source": [
    "nosub = dm.open(directory + \"NoSub/jw01345063001_03101_00001_nrs1_s2d.fits\").slits[0].data\n",
    "default = dm.open(directory + \"Default/jw01345063001_03101_00001_nrs1_s2d.fits\").slits[0].data\n",
    "\n",
    "print(np.nanmin(nosub), np.nanmax(nosub))\n",
    "print(np.nanmin(default), np.nanmax(default))\n",
    "\n",
    "plt.figure(figsize=(12,2))\n",
    "residual = nosub - default\n",
    "z1, z2 = ZScaleInterval().get_limits(residual)\n",
    "plt.imshow(residual, origin=\"lower\", vmin=z1, vmax=z2)\n",
    "plt.show()\n",
    "\n",
    "plt.figure(figsize=(12,2))\n",
    "z1, z2 = ZScaleInterval().get_limits(nosub)\n",
    "plt.imshow(nosub, origin=\"lower\", vmin=z1, vmax=z2)\n",
    "plt.show()"
   ],
   "id": "da4af963c515328c",
   "outputs": [],
   "execution_count": null
  },
  {
   "metadata": {},
   "cell_type": "markdown",
   "source": "# Manual background subtraction",
   "id": "8da8f156d32ee095"
  },
  {
   "metadata": {},
   "cell_type": "code",
   "source": [
    "rate_list = glob(directory + \"NoSub/*nrs1*cal.fits\")\n",
    "rate_list = [dm.open(_).slits[0].data for _ in rate_list]\n",
    "\n",
    "%matplotlib Qt5Agg"
   ],
   "id": "a84c33da1cf8b18c",
   "outputs": [],
   "execution_count": null
  },
  {
   "metadata": {},
   "cell_type": "code",
   "source": [
    "fig, ax = plt.subplots(figsize=(14,3))\n",
    "\n",
    "\n",
    "# Slider\n",
    "ax_slider1 = plt.axes((0.2, 0.05, 0.6, 0.03))\n",
    "slider1 = Slider(ax_slider1, '1', -1, 1, valinit=0, valstep=0.01)\n",
    "ax_slider2 = plt.axes((0.2, 0.02, 0.6, 0.03))\n",
    "slider2 = Slider(ax_slider2, '2', -1, 1, valinit=0, valstep=0.01)\n",
    "\n",
    "\n",
    "def update(val):\n",
    "\tc1 = slider1.val\n",
    "\tc2 = slider2.val\n",
    "\n",
    "\timg = rate_list[2] - c2*((1-c1)/2*rate_list[0] + (1+c1)/2*rate_list[1])\n",
    "\tz1, z2 = ZScaleInterval().get_limits(img)\n",
    "\n",
    "\tax.imshow(img, origin='lower', interpolation='none', vmin=z1, vmax=z2)\n",
    "\txlim = ax.get_xlim()\n",
    "\tylim = ax.get_ylim()\n",
    "\tax.clear()\n",
    "\tax.imshow(img, origin='lower', interpolation='none', vmin=z1, vmax=z2)\n",
    "\n",
    "#\txlim = (1567,1992)\n",
    "#\tylim = (386,411)\n",
    "\tax.set_ylim(*ylim)\n",
    "\tax.set_xlim(*xlim)\n",
    "update(0)\n",
    "\n",
    "# Attach the update function to the slider\n",
    "slider1.on_changed(update)\n",
    "slider2.on_changed(update)\n",
    "\n",
    "plt.show()"
   ],
   "id": "d83ad67642a591cb",
   "outputs": [],
   "execution_count": null
  },
  {
   "metadata": {},
   "cell_type": "markdown",
   "source": "# Background subtraction custom on Cal files\n",
   "id": "7f29cc6cadb5c31a"
  },
  {
   "metadata": {
    "ExecuteTime": {
     "end_time": "2025-01-16T12:06:55.737020Z",
     "start_time": "2025-01-16T12:06:55.246200Z"
    }
   },
   "cell_type": "code",
   "source": [
    "from jwst.barshadow import BarShadowStep\n",
    "\n",
    "cal = dm.open(directory+\"NoSub/jw01345063001_03101_00001_nrs1_cal.fits\")\n",
    "\n",
    "plt.figure(figsize=(12,4))\n",
    "z1, z2 = ZScaleInterval().get_limits(cal.slits[0].data)\n",
    "plt.imshow(cal.slits[0].data, origin='lower', interpolation='none', cmap=\"plasma\", vmin=z1, vmax=z2)\n",
    "plt.show()\n",
    "\n",
    "ratio = cal.slits[0].data\n",
    "\n",
    "cal = BarShadowStep().call(cal, source_type=\"UNIFORM\")\n",
    "\n",
    "plt.figure(figsize=(12,4))\n",
    "z1, z2 = ZScaleInterval().get_limits(cal.slits[0].data)\n",
    "plt.imshow(cal.slits[0].data, origin='lower', interpolation='none', cmap=\"plasma\", vmin=z1, vmax=z2)\n",
    "plt.show()\n",
    "\n",
    "print(type(cal.slits[0]))\n"
   ],
   "id": "e9858093ee0ed1f1",
   "outputs": [
    {
     "data": {
      "text/plain": [
       "<Figure size 1200x400 with 1 Axes>"
      ],
      "image/png": "[encoded data removed]"
     },
     "metadata": {},
     "output_type": "display_data"
    },
    {
     "name": "stderr",
     "output_type": "stream",
     "text": [
      "2025-01-16 13:06:55,460 - stpipe.BarShadowStep - INFO - BarShadowStep instance created.\n",
      "2025-01-16 13:06:55,470 - stpipe.BarShadowStep - INFO - BarShadowStep instance created.\n",
      "2025-01-16 13:06:55,566 - stpipe.BarShadowStep - INFO - Step BarShadowStep running with args (<MultiSlitModel from jw01345063001_03101_00001_nrs1_cal.fits>,).\n",
      "2025-01-16 13:06:55,567 - stpipe.BarShadowStep - INFO - Step BarShadowStep parameters are:\n",
      "  pre_hooks: []\n",
      "  post_hooks: []\n",
      "  output_file: None\n",
      "  output_dir: None\n",
      "  output_ext: .fits\n",
      "  output_use_model: False\n",
      "  output_use_index: True\n",
      "  save_results: False\n",
      "  skip: False\n",
      "  suffix: None\n",
      "  search_output_file: True\n",
      "  input_dir: ''\n",
      "  inverse: False\n",
      "  source_type: UNIFORM\n",
      "2025-01-16 13:06:55,581 - stpipe.BarShadowStep - INFO - Using BARSHADOW reference file /home/tim-dewachter/Documents/Thèse/BetterNIRSpecBackground/CRDS/references/jwst/nirspec/jwst_nirspec_barshadow_0006.fits\n",
      "2025-01-16 13:06:55,662 - stpipe.BarShadowStep - INFO - Working on slitlet 200\n",
      "2025-01-16 13:06:55,698 - stpipe.BarShadowStep - INFO - Results used CRDS context: jwst_1303.pmap\n",
      "2025-01-16 13:06:55,698 - stpipe.BarShadowStep - INFO - Step BarShadowStep done\n",
      "2025-01-16 13:06:55,699 - stpipe - INFO - Results used jwst version: 1.16.1\n"
     ]
    },
    {
     "data": {
      "text/plain": [
       "<Figure size 1200x400 with 1 Axes>"
      ],
      "image/png": "[encoded data removed]"
     },
     "metadata": {},
     "output_type": "display_data"
    },
    {
     "name": "stdout",
     "output_type": "stream",
     "text": [
      "<class 'stdatamodels.properties.ObjectNode'>\n"
     ]
    }
   ],
   "execution_count": 11
  },
  {
   "metadata": {},
   "cell_type": "code",
   "source": [
    "from BNBG.Pipeline.BetterBackgroundSubtractStep import modelBackgroundFromSlit\n",
    "\n",
    "model, err = modelBackgroundFromSlit(cal.slits[0], n=0.05)\n",
    "mask = np.isnan(cal.slits[0].data)\n",
    "model[mask] = np.nan\n",
    "\n",
    "plt.figure(figsize=(18,3))\n",
    "z1, z2 = ZScaleInterval().get_limits(model)\n",
    "plt.imshow(model, origin='lower', interpolation='none', cmap=\"plasma\", vmin=z1, vmax=z2)\n",
    "plt.show()"
   ],
   "id": "953e7dd136c285cf",
   "outputs": [],
   "execution_count": null
  },
  {
   "metadata": {},
   "cell_type": "code",
   "source": [
    "from jwst.barshadow import BarShadowStep\n",
    "\n",
    "bkg = cal.copy()\n",
    "bkg.slits[0].data = model\n",
    "bkg = [bkg, BarShadowStep().call(bkg, inverse=True, source_type=\"EXTENDED\")]\n"
   ],
   "id": "b4ed0d88463a489a",
   "outputs": [],
   "execution_count": null
  },
  {
   "metadata": {},
   "cell_type": "code",
   "source": [
    "%matplotlib inline\n",
    "\n",
    "# Clean, Barashadow\n",
    "for _ in bkg:\n",
    "\tplt.figure(figsize=(16,1))\n",
    "\tz1, z2 = ZScaleInterval().get_limits(_.slits[0].data)\n",
    "\tplt.imshow(_.slits[0].data, origin='lower', interpolation='none', cmap=\"plasma\", vmin=z1, vmax=z2)\n",
    "\tplt.colorbar()\n",
    "\tplt.show()\n",
    "\n",
    "cal = dm.open(directory+\"NoSub/jw01345063001_03101_00001_nrs1_cal.fits\")\n",
    "\n",
    "# Raw\n",
    "plt.figure(figsize=(16,1))\n",
    "z1, z2 = ZScaleInterval().get_limits(cal.slits[0].data)\n",
    "plt.imshow(cal.slits[0].data, origin='lower', interpolation='none', cmap=\"plasma\", vmin=z1, vmax=z2)\n",
    "plt.colorbar()\n",
    "plt.show()\n",
    "\n",
    "# Residual\n",
    "residual = cal.slits[0].data - bkg[-1].slits[0].data\n",
    "\n",
    "plt.figure(figsize=(16,1))\n",
    "z1, z2 = ZScaleInterval().get_limits(residual)\n",
    "plt.imshow(residual, origin='lower', interpolation='none', cmap=\"plasma\", vmin=z1, vmax=z2)\n",
    "plt.colorbar()\n",
    "plt.show()\n"
   ],
   "id": "f0401ed0c1f4c56d",
   "outputs": [],
   "execution_count": null
  },
  {
   "metadata": {},
   "cell_type": "code",
   "source": [
    "from scipy.ndimage import shift\n",
    "\n",
    "%matplotlib Qt5Agg\n",
    "\n",
    "data = cal.slits[0].data\n",
    "background = bkg[0].slits[0].data\n",
    "barshadow = bkg[1].slits[0].barshadow\n",
    "\n",
    "_, ax = plt.subplots(2,1,figsize=(14,5))\n",
    "plt.subplots_adjust(bottom=0.2)\n",
    "ax_slider = plt.axes((0.2, 0.1, 0.6, 0.03))\n",
    "slider = Slider(ax_slider, 'Shift', 0, data.shape[0], valinit=0, valstep=0.01)\n",
    "\n",
    "\n",
    "def update(val):\n",
    "\tax[0].clear()\n",
    "\tax[1].clear()\n",
    "\n",
    "\tc = slider.val\n",
    "\tbarshadow[np.isnan(barshadow)] = 0\n",
    "\t_ = shift(barshadow, (c, 0), mode='grid-wrap')\n",
    "\t_ = background*_\n",
    "\timg = data-_\n",
    "\tz1, z2 = ZScaleInterval().get_limits(img)\n",
    "\tax[1].imshow(data, origin='lower', interpolation='none', cmap=\"plasma\", vmin=z1, vmax=z2)\n",
    "\n",
    "\tz1, z2 = 3.7990356e-14, 8.461599879650386e-13\n",
    "\tax[0].imshow(_, origin='lower', interpolation='none', cmap=\"plasma\", vmin=z1, vmax=z2)\n",
    "\n",
    "update(0)\n",
    "\n",
    "# Attach the update function to the slider\n",
    "slider.on_changed(update)\n",
    "\n",
    "plt.show()\n"
   ],
   "id": "49f83fa3bc95bb5e",
   "outputs": [],
   "execution_count": null
  },
  {
   "metadata": {},
   "cell_type": "code",
   "outputs": [],
   "execution_count": null,
   "source": "",
   "id": "a06e75ce4fb069ab"
  }
 ],
 "metadata": {
  "kernelspec": {
   "display_name": "Python 3",
   "language": "python",
   "name": "python3"
  },
  "language_info": {
   "codemirror_mode": {
    "name": "ipython",
    "version": 2
   },
   "file_extension": ".py",
   "mimetype": "text/x-python",
   "name": "python",
   "nbconvert_exporter": "python",
   "pygments_lexer": "ipython2",
   "version": "2.7.6"
  }
 },
 "nbformat": 4,
 "nbformat_minor": 5
}
