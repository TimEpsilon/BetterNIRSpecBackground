{
 "cells": [
  {
   "cell_type": "code",
   "id": "6088c224-a4ca-42cb-97dc-53c6e5bdfa07",
   "metadata": {
    "ExecuteTime": {
     "end_time": "2024-12-10T17:22:39.690587Z",
     "start_time": "2024-12-10T17:22:39.687261Z"
    }
   },
   "source": [
    "import numpy as np\n",
    "import matplotlib.pyplot as plt\n",
    "from matplotlib.widgets import Slider\n",
    "import os\n",
    "import stdatamodels.jwst.datamodels as dm\n",
    "from astropy.io import fits\n",
    "from glob import glob\n",
    "import pandas as pd"
   ],
   "outputs": [],
   "execution_count": 98
  },
  {
   "metadata": {
    "ExecuteTime": {
     "end_time": "2024-12-10T17:12:06.871283Z",
     "start_time": "2024-12-10T17:12:06.864923Z"
    }
   },
   "cell_type": "code",
   "source": [
    "class DataCube:\n",
    "\t\"\"\"\n",
    "\tAn object combining multiple 1D and 2D spectra from a given folder.\n",
    "\t\n",
    "\t\n",
    "\tParameters :\n",
    "\t----------\n",
    "\tfolder :\n",
    "\t\tpath to the folder containing the final data. Will loop on every fits file \n",
    "\t\tand keep the one containing the _s2d or _x1d suffix\n",
    "\t\n",
    "\tProperties : \n",
    "\t----------\n",
    "\ttable : \n",
    "\t\ta table used for making a correspondence between a source id, a s2d file and a x1d file. \n",
    "\t\tThose files are stored as a list of paths \n",
    "\t\"\"\"\n",
    "\t\n",
    "\tdef __init__(self, folder):\t\n",
    "\t\ts2dList = [[file] for file in sorted(glob(os.path.join(folder, '*_s2d.fits')))]\n",
    "\t\tx1dList = [[x] if os.path.exists(x := file[0].replace(\"_s2d\", \"_x1d\")) else [None] for file in s2dList]\n",
    "\t\tsourceList = [fits.open(file[0])[1].header[\"SOURCEID\"] for file in s2dList]\n",
    "\t\t\n",
    "\t\tself.table = pd.DataFrame({\"sourceID\": sourceList, \"s2d\": s2dList, \"x1d\": x1dList})\n",
    "\t\t\n",
    "\t\t# Initializes the dataframe which will contain the data models\n",
    "\t\tself.dataTable = pd.DataFrame({\"sourceID\" : [], \"s2d\" : [], \"x1d\" : []})\n",
    "\n",
    "\t\t\n",
    "\t\t\n",
    "\tdef combineDataCube(self, datacube):\n",
    "\t\t\"\"\"\n",
    "\t\tCombines 2 Datacubes\n",
    "\t\tParameters\n",
    "\t\t----------\n",
    "\t\tdatacube :\n",
    "\t\t\tAnother datacube to be appended to this one\n",
    "\t\t\"\"\"\n",
    "\t\t\n",
    "\t\tprint(\"Starting Combining Datacubes\")\n",
    "\t\t\n",
    "\t\tprint(\"Merging...\")\n",
    "\t\t# Perform an outer join to include all sourceIDs from both DataFrames\n",
    "\t\tmerged = self.table.merge(\n",
    "\t\t\tdatacube.table, on=\"sourceID\", how=\"outer\", suffixes=(\"_self\", \"_other\")\n",
    "\t\t)\n",
    "\t\t\n",
    "\t\tprint(\"Replacing empty values...\")\n",
    "\t\t# Fill missing values in 's2d' and 'x1d' columns with empty lists or zero, as appropriate\n",
    "\t\tmerged[\"s2d_self\"] = merged[\"s2d_self\"].apply(lambda x: x if isinstance(x, list) else [])\n",
    "\t\tmerged[\"s2d_other\"] = merged[\"s2d_other\"].apply(lambda x: x if isinstance(x, list) else [])\n",
    "\t\tmerged[\"x1d_self\"] = merged[\"x1d_self\"].apply(lambda x: x if isinstance(x, list) else [])\n",
    "\t\tmerged[\"x1d_other\"] = merged[\"x1d_other\"].apply(lambda x: x if isinstance(x, list) else [])\n",
    "\t\t\n",
    "\t\tprint(\"Appending paths...\")\n",
    "\t\t# Combine the 's2d' and 'x1d' columns\n",
    "\t\tmerged[\"s2d\"] = merged[\"s2d_self\"] + merged[\"s2d_other\"]\n",
    "\t\tmerged[\"x1d\"] = merged[\"x1d_self\"] + merged[\"x1d_other\"]\n",
    "\t\t\n",
    "\t\t# Keep only necessary columns: 'sourceID', 's2d', 'x1d'\n",
    "\t\tself.table = merged[[\"sourceID\", \"s2d\", \"x1d\"]]\n",
    "\t\t\n",
    "\t\tprint(\"Finished Combining Datacubes!\")\n",
    "\n",
    "\tdef preloadDataCube(self):\n",
    "\t\t\"\"\"\n",
    "\t\tInitializes self.dataTable, a table structurally identical to self.table, \n",
    "\t\texcept the paths are replaced by the corresponding datamodels\n",
    "\t\t\"\"\"\n",
    "\t\tprint(\"Starting loading data...\")\n",
    "\t\tprint(\"Copying...\")\n",
    "\t\tself.dataTable = self.table.copy()\n",
    "\t\t\n",
    "\t\t# Process lists of file paths\n",
    "\t\tdef processList(file_list):\n",
    "\t\t\treturn [dm.open(file) for file in file_list if isinstance(file, str)]\n",
    "\t\t\n",
    "\t\tprint(\"Loading...\")\n",
    "\t\t# Process the 'x1d' and 's2d' columns\n",
    "\t\tself.dataTable[\"x1d\"] = self.dataTable[\"x1d\"].apply(processList)\n",
    "\t\tself.dataTable[\"s2d\"] = self.dataTable[\"s2d\"].apply(processList)\n",
    "\t\t\n",
    "\t\tprint(\"Finished loading data!\")\n",
    "\t\t\n",
    "\tdef exploreDataCube(self):\n",
    "\t\tfig, axes = plt.subplots(4, 1, figsize=(18, 7), gridspec_kw={'hspace': 0})"
   ],
   "id": "cee81187d18a03ab",
   "outputs": [],
   "execution_count": 97
  },
  {
   "metadata": {
    "ExecuteTime": {
     "end_time": "2024-12-10T16:00:01.711002Z",
     "start_time": "2024-12-10T16:00:01.704813Z"
    }
   },
   "cell_type": "code",
   "source": [
    "_ = DataCube(\"/home/tim-dewachter/Documents/Thèse/BetterNIRSpecBackground/mastDownload/JWST/CEERS-NIRSPEC-P5-PRISM-MSATA/Final\")\n",
    "_.table"
   ],
   "id": "6fc88b345de3d5c5",
   "outputs": [
    {
     "data": {
      "text/plain": [
       "   sourceID                                                s2d  \\\n",
       "0     44419  [/home/tim-dewachter/Documents/Thèse/BetterNIR...   \n",
       "\n",
       "                                                 x1d  \n",
       "0  [/home/tim-dewachter/Documents/Thèse/BetterNIR...  "
      ],
      "text/html": [
       "<div>\n",
       "<style scoped>\n",
       "    .dataframe tbody tr th:only-of-type {\n",
       "        vertical-align: middle;\n",
       "    }\n",
       "\n",
       "    .dataframe tbody tr th {\n",
       "        vertical-align: top;\n",
       "    }\n",
       "\n",
       "    .dataframe thead th {\n",
       "        text-align: right;\n",
       "    }\n",
       "</style>\n",
       "<table border=\"1\" class=\"dataframe\">\n",
       "  <thead>\n",
       "    <tr style=\"text-align: right;\">\n",
       "      <th></th>\n",
       "      <th>sourceID</th>\n",
       "      <th>s2d</th>\n",
       "      <th>x1d</th>\n",
       "    </tr>\n",
       "  </thead>\n",
       "  <tbody>\n",
       "    <tr>\n",
       "      <th>0</th>\n",
       "      <td>44419</td>\n",
       "      <td>[/home/tim-dewachter/Documents/Thèse/BetterNIR...</td>\n",
       "      <td>[/home/tim-dewachter/Documents/Thèse/BetterNIR...</td>\n",
       "    </tr>\n",
       "  </tbody>\n",
       "</table>\n",
       "</div>"
      ]
     },
     "execution_count": 69,
     "metadata": {},
     "output_type": "execute_result"
    }
   ],
   "execution_count": 69
  },
  {
   "metadata": {},
   "cell_type": "code",
   "outputs": [],
   "execution_count": null,
   "source": "",
   "id": "9e1b76258dfef8f1"
  }
 ],
 "metadata": {
  "kernelspec": {
   "display_name": "Python 3 (ipykernel)",
   "language": "python",
   "name": "python3"
  },
  "language_info": {
   "codemirror_mode": {
    "name": "ipython",
    "version": 3
   },
   "file_extension": ".py",
   "mimetype": "text/x-python",
   "name": "python",
   "nbconvert_exporter": "python",
   "pygments_lexer": "ipython3",
   "version": "3.11.8"
  }
 },
 "nbformat": 4,
 "nbformat_minor": 5
}
