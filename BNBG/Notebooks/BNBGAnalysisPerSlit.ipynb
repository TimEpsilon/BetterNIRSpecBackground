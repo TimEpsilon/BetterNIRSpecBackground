{
 "cells": [
  {
   "cell_type": "code",
   "id": "initial_id",
   "metadata": {
    "collapsed": true,
    "ExecuteTime": {
     "end_time": "2025-01-30T16:09:44.543882Z",
     "start_time": "2025-01-30T16:09:44.541045Z"
    }
   },
   "source": [
    "from astropy.io import fits\n",
    "import numpy as np\n",
    "import matplotlib.pyplot as plt\n",
    "from astropy.visualization import ZScaleInterval\n",
    "from glob import glob\n",
    "import os\n",
    "from matplotlib.colors import ListedColormap\n",
    "from stdatamodels.jwst import datamodels as dm\n",
    "from BNBG.Pipeline.BetterBackgroundSubtractStep import getDataWithMask\n",
    "from BNBG.utils import getSourcePosition\n",
    "from matplotlib.patches import Rectangle"
   ],
   "outputs": [],
   "execution_count": 258
  },
  {
   "metadata": {
    "ExecuteTime": {
     "end_time": "2025-01-30T16:54:20.011096Z",
     "start_time": "2025-01-30T16:54:19.995947Z"
    }
   },
   "cell_type": "code",
   "source": [
    "class MultiStepObject:\n",
    "\tdef __init__(self, folder):\n",
    "\t\t\"\"\"\n",
    "\t\tActs as a container for MOS data at Stage 2 (cals), Stage 2 + BNBG (BNBG) and backgrounds (bkg), and Stage 3 (s2d).\n",
    "\n",
    "\t\tParameters\n",
    "\t\t----------\n",
    "\t\tfolder : str\n",
    "\t\t\tPath to the folder\n",
    "\t\t\"\"\"\n",
    "\t\tdef get_sorted_files(folder, pattern):\n",
    "\t\t\tfiles = glob(os.path.join(folder, pattern))\n",
    "\t\t\tfiles.sort()\n",
    "\t\t\treturn files\n",
    "\n",
    "\t\tcal_list = get_sorted_files(folder, '*nrs1_cal.fits') + get_sorted_files(folder, '*nrs2_cal.fits')\n",
    "\t\tprint(cal_list)\n",
    "\t\ts2d2_list = get_sorted_files(folder, '*nrs1_s2d.fits') + get_sorted_files(folder, '*nrs2_s2d.fits')\n",
    "\t\tbkg_list = get_sorted_files(folder, '*nrs1_bkg-BNBG.fits') + get_sorted_files(folder, '*nrs2_bkg-BNBG.fits')\n",
    "\t\tBNBG_list = get_sorted_files(folder, '*nrs1_cal-BNBG.fits') + get_sorted_files(folder, '*nrs2_cal-BNBG.fits')\n",
    "\n",
    "\t\t# Assuming lists are of format\n",
    "\t\t# [001_nrs1, 002_nrs1, 003_nrs1, 001_nrs2, 002_nrs2, 003_nrs2]\n",
    "\n",
    "\t\ts2d_list = glob(os.path.join(folder, 'Final/*_s2d.fits'))\n",
    "\t\tprint(\"Opening CALs\")\n",
    "\t\tself.cal_list = [fits.open(_) for _ in cal_list]\n",
    "\t\tself.wavelength_list = [[_ for _ in cal if _.name == \"WAVELENGTH\"] for cal in self.cal_list]\n",
    "\t\tself.cal_list = [[_ for _ in cal if _.name == \"SCI\"] for cal in self.cal_list]\n",
    "\t\tself.cal_sources = [[_.header[\"sourceid\"] for _ in cal] for cal in self.cal_list]\n",
    "\t\tprint(\"Opening S2D2S\")\n",
    "\t\tself.s2d2_list = [dm.open(_) for _ in s2d2_list]\n",
    "\t\tprint(\"Opening BKGs\")\n",
    "\t\tself.bkg_list = [fits.open(_) for _ in bkg_list]\n",
    "\t\tself.bkg_list = [[_ for _ in bkg if _.name == \"SCI\"] for bkg in self.bkg_list]\n",
    "\t\tprint(\"Opening BNBGs\")\n",
    "\t\tself.BNBG_list = [fits.open(_) for _ in BNBG_list]\n",
    "\t\tself.BNBG_list = [[_ for _ in BNBG if _.name == \"SCI\"] for BNBG in self.BNBG_list]\n",
    "\t\tprint(\"Opening S2Ds\")\n",
    "\t\tself.s2d_list = [fits.open(_) for _ in s2d_list]\n",
    "\t\tself.s2d_sources = [s2d[1].header[\"sourceid\"] for s2d in self.s2d_list]\n",
    "\n",
    "\tdef plot(self, source_id):\n",
    "\t\tcal_list = self._get_hdus_by_source(source_id, self.cal_list)\n",
    "\t\tbkg_list = self._get_hdus_by_source(source_id, self.bkg_list)\n",
    "\t\tbnbg_list = self._get_hdus_by_source(source_id, self.BNBG_list)\n",
    "\t\twavelength_list = self._get_hdus_by_source(source_id, self.wavelength_list)\n",
    "\t\tX,Y = self._get_1d_data(source_id)\n",
    "\t\ts2d = self.s2d_list[self.s2d_sources.index(source_id)]\n",
    "\n",
    "\t\tisnrs1 = not all(_ is None for _ in cal_list[:3])\n",
    "\t\tisnrs2 = not all(_ is None for _ in cal_list[3:])\n",
    "\n",
    "\t\tif isnrs1:\n",
    "\t\t\tcmap = MultiStepObject._binary_to_colormap(use_first_group=False)\n",
    "\t\t\tMultiStepObject._plot(cal_list[:3], bkg_list[:3], bnbg_list[:3], wavelength_list[:3], X[:3], Y[:3], s2d, source_id, cmap)\n",
    "\t\tif isnrs2:\n",
    "\t\t\tcmap = MultiStepObject._binary_to_colormap(use_first_group=True)\n",
    "\t\t\tMultiStepObject._plot(cal_list[3:], bkg_list[3:], bnbg_list[3:], wavelength_list[3:], X[3:], Y[3:], s2d, source_id, cmap)\n",
    "\n",
    "\n",
    "\tdef _get_hdus_by_source(self, source_id, data_list):\n",
    "\t\t# hdus, sids are lists, one for each 00N_nrsM file (N=1,2,3, M=1,2)\n",
    "\t\t# next will return the first element of all hdu that verify sid = source_id\n",
    "\t\t# if none is found, returns None\n",
    "\t\treturn [\n",
    "\t\t\tnext((hdu for hdu, sid in zip(hdus, sids) if sid == source_id), None)\n",
    "\t\t\tfor hdus, sids in zip(data_list, self.cal_sources)\n",
    "\t\t]\n",
    "\n",
    "\tdef _get_1d_data(self, source_id):\n",
    "\t\tX = []\n",
    "\t\tY = []\n",
    "\t\tfor s2d in self.s2d2_list:\n",
    "\t\t\tfound = False\n",
    "\t\t\tfor slit in s2d.slits:\n",
    "\t\t\t\tif slit.source_id == source_id:\n",
    "\t\t\t\t\tYY, XX = np.indices(slit.data.shape)\n",
    "\t\t\t\t\t_, _, dataLambda = slit.meta.wcs.transform(\"detector\", \"world\", XX, YY)\n",
    "\t\t\t\t\tsource = getSourcePosition(slit)\n",
    "\n",
    "\t\t\t\t\tx,y,_ = getDataWithMask(slit.data.copy(), slit.err.copy(), dataLambda, source=source)\n",
    "\t\t\t\t\tX.append(x)\n",
    "\t\t\t\t\tY.append(y)\n",
    "\t\t\t\t\tfound = True\n",
    "\t\t\t\t\tbreak\n",
    "\t\t\tif not found:\n",
    "\t\t\t\tX.append(None)\n",
    "\t\t\t\tY.append(None)\n",
    "\t\treturn X, Y\n",
    "\n",
    "\t@staticmethod\n",
    "\tdef _binary_to_colormap(use_first_group=True):\n",
    "\t\t\"\"\"\n",
    "\t\tCreate a colormap for 6-bit binary values based on additive color mixing.\n",
    "\t\t:param use_first_group: If True, use bits 0,2,4; if False, use bits 1,3,5\n",
    "\t\t\"\"\"\n",
    "\t\tcolors = []\n",
    "\t\tfor i in range(64):  # Iterate over all possible 6-bit values\n",
    "\t\t\tbinary_str = f\"{i:06b}\"  # Convert number to 6-bit binary string\n",
    "\t\t\tif use_first_group:\n",
    "\t\t\t\tr, g, b = int(binary_str[0]), int(binary_str[2]), int(binary_str[4])\n",
    "\t\t\telse:\n",
    "\t\t\t\tr, g, b = int(binary_str[1]), int(binary_str[3]), int(binary_str[5])\n",
    "\t\t\tcolors.append((r, g, b))  # Additive color mixing\n",
    "\n",
    "\t\treturn ListedColormap(colors)\n",
    "\n",
    "\t@staticmethod\n",
    "\tdef _plot(cal: list, bkg: list, bnbg: list, wave: list, X, Y, s2d, sourceid, cmap):\n",
    "\t\tfig = plt.figure(figsize=(16, 8))\n",
    "\t\tgs = fig.add_gridspec(4, 5,  width_ratios=[2.5, 2.5, 2.5, 1, 1], height_ratios=[2, 2, 2, 8.5], hspace=0, wspace=0)\n",
    "\n",
    "\t\tax_cal = [fig.add_subplot(gs[i, 0], xticks=[], yticks=[]) for i in range(3)]\n",
    "\t\tax_bkg = [fig.add_subplot(gs[i, 1], xticks=[], yticks=[]) for i in range(3)]\n",
    "\t\tax_bnbg = [fig.add_subplot(gs[i, 2], xticks=[], yticks=[]) for i in range(3)]\n",
    "\t\tax_spec = fig.add_subplot(gs[3, :3])\n",
    "\t\tax_s2d = fig.add_subplot(gs[:, 3], xticks=[], yticks=[])\n",
    "\t\tax_con = fig.add_subplot(gs[:, 4], xticks=[], yticks=[])\n",
    "\n",
    "\t\tdef plot_cal(ax, imgs):\n",
    "\t\t\tvalues = np.array([])\n",
    "\t\t\tfor i in range(3):\n",
    "\t\t\t\tif imgs[i] is not None:\n",
    "\t\t\t\t\tvalues = np.append(values, imgs[i].data.ravel())\n",
    "\t\t\tvalues = values[np.isfinite(values)]\n",
    "\t\t\tz1, z2 = (0, 1) if len(values) == 0 else ZScaleInterval().get_limits(values)\n",
    "\n",
    "\t\t\tfor i in range(3):\n",
    "\t\t\t\tif imgs[i] is not None:\n",
    "\t\t\t\t\timg = imgs[i].data\n",
    "\t\t\t\t\tax[i].imshow(img, interpolation=\"none\", origin=\"lower\", vmin=z1, vmax=z2, aspect=\"auto\", zorder=0)\n",
    "\n",
    "\n",
    "\t\tplot_cal(ax_cal, cal)\n",
    "\t\tplot_cal(ax_bkg, bkg)\n",
    "\t\tplot_cal(ax_bnbg, bnbg)\n",
    "\n",
    "\t\tfor ax, c in zip(ax_cal, [\"r\", \"g\", \"b\"]):\n",
    "\t\t\tax.add_patch(Rectangle((0, 0), 3, 1, transform=ax.transAxes, color=c, alpha=0.3, zorder=-1, clip_on=False))\n",
    "\n",
    "\t\tz1, z2 = 1e10, -1e10\n",
    "\t\tfor i, c in enumerate([(1,0,0,1), (0,1,0,1), (0,0,1,1)]):\n",
    "\t\t\tif cal[i] is not None:\n",
    "\t\t\t\tax_spec.scatter(X[i], Y[i], color=c, marker=[\"o\",\"*\",\"X\"][i], alpha=0.4)\n",
    "\t\t\t\tz1, z2 = np.min((z1, np.nanmin(Y[i]))), np.max((z2, np.nanmax(Y[i])))\n",
    "\t\t\t\tx = wave[i].data.ravel()\n",
    "\t\t\t\ty = bkg[i].data.ravel()\n",
    "\t\t\t\tmask = np.isfinite(x)\n",
    "\t\t\t\tx = x[mask]\n",
    "\t\t\t\ty = y[mask]\n",
    "\t\t\t\tindices = np.argsort(x)\n",
    "\t\t\t\tx = x[indices]\n",
    "\t\t\t\ty = y[indices]\n",
    "\t\t\t\tax_spec.plot(x,y, color=c)\n",
    "\t\tax_spec.set_ylabel(\"Flux\")\n",
    "\t\tax_spec.set_xlabel(fr\"$\\lambda$ (µm)\")\n",
    "\t\tdz = (z2 - z1) / 2\n",
    "\t\tz = (z1 + z2) / 2\n",
    "\t\tax_spec.set_ylim(z-dz*1.05,z+dz*1.05)\n",
    "\t\tax_spec.grid(True)\n",
    "\n",
    "\t\t# Set the correct aspect ratio for ax_s2d\n",
    "\t\ts2d_sci = s2d[\"SCI\"].data.T\n",
    "\t\tz1, z2 = ZScaleInterval().get_limits(s2d_sci)\n",
    "\t\tax_s2d.imshow(s2d_sci, interpolation=\"none\", origin=\"lower\", vmin=z1, vmax=z2)\n",
    "\t\tax_s2d.set_aspect(1/2)\n",
    "\n",
    "\t\t# Set the correct aspect ratio for ax_con\n",
    "\t\tcon_img = s2d[\"CON\"].data[0, :, :].T\n",
    "\t\tax_con.imshow(con_img, interpolation=\"none\", origin=\"lower\", cmap=cmap, vmin=0, vmax=63)\n",
    "\t\tax_con.set_aspect(1/2)\n",
    "\n",
    "\t\tfor ax in ax_cal + ax_bkg + ax_bnbg + [ax_s2d] + [ax_con]:\n",
    "\t\t\tax.set_axis_off()\n",
    "\n",
    "\t\tplt.show()"
   ],
   "id": "f78672a1a0a33a45",
   "outputs": [],
   "execution_count": 330
  },
  {
   "metadata": {
    "ExecuteTime": {
     "end_time": "2025-01-30T16:55:42.242306Z",
     "start_time": "2025-01-30T16:54:21.084282Z"
    }
   },
   "cell_type": "code",
   "source": "MSO = MultiStepObject(\"/home/tim-dewachter/Documents/Thèse/BetterNIRSpecBackground/mastDownload/JWST/CEERS-NIRSPEC-P5-PRISM-MSATA\")",
   "id": "3aa3993b9a6d7b4e",
   "outputs": [
    {
     "name": "stdout",
     "output_type": "stream",
     "text": [
      "['/home/tim-dewachter/Documents/Thèse/BetterNIRSpecBackground/mastDownload/JWST/CEERS-NIRSPEC-P5-PRISM-MSATA/jw01345063001_03101_00001_nrs1_cal.fits', '/home/tim-dewachter/Documents/Thèse/BetterNIRSpecBackground/mastDownload/JWST/CEERS-NIRSPEC-P5-PRISM-MSATA/jw01345063001_03101_00002_nrs1_cal.fits', '/home/tim-dewachter/Documents/Thèse/BetterNIRSpecBackground/mastDownload/JWST/CEERS-NIRSPEC-P5-PRISM-MSATA/jw01345063001_03101_00003_nrs1_cal.fits', '/home/tim-dewachter/Documents/Thèse/BetterNIRSpecBackground/mastDownload/JWST/CEERS-NIRSPEC-P5-PRISM-MSATA/jw01345063001_03101_00001_nrs2_cal.fits', '/home/tim-dewachter/Documents/Thèse/BetterNIRSpecBackground/mastDownload/JWST/CEERS-NIRSPEC-P5-PRISM-MSATA/jw01345063001_03101_00002_nrs2_cal.fits', '/home/tim-dewachter/Documents/Thèse/BetterNIRSpecBackground/mastDownload/JWST/CEERS-NIRSPEC-P5-PRISM-MSATA/jw01345063001_03101_00003_nrs2_cal.fits']\n",
      "Opening CALs\n",
      "Opening S2D2S\n",
      "Opening BKGs\n",
      "Opening BNBGs\n",
      "Opening S2Ds\n"
     ]
    }
   ],
   "execution_count": 331
  },
  {
   "metadata": {
    "ExecuteTime": {
     "end_time": "2025-01-30T16:51:40.711633Z",
     "start_time": "2025-01-30T16:51:40.321361Z"
    }
   },
   "cell_type": "code",
   "source": [
    "%matplotlib Qt5Agg\n",
    "plt.close(\"all\")\n",
    "MSO.plot(1626)"
   ],
   "id": "3524637e1ad7cdf8",
   "outputs": [],
   "execution_count": 329
  },
  {
   "metadata": {
    "ExecuteTime": {
     "end_time": "2025-01-30T16:26:27.557871Z",
     "start_time": "2025-01-30T16:26:27.530610Z"
    }
   },
   "cell_type": "code",
   "source": [
    "X = np.indices((10,10), dtype=float)[0]\n",
    "X[3,4:8] = np.nan\n",
    "\n",
    "fig, ax = plt.subplots()\n",
    "ax.imshow(X)\n",
    "ax.set_facecolor(\"red\")\n",
    "plt.show()"
   ],
   "id": "5aa850643e63e3f3",
   "outputs": [],
   "execution_count": 287
  },
  {
   "metadata": {
    "ExecuteTime": {
     "end_time": "2025-01-30T16:47:39.763929Z",
     "start_time": "2025-01-30T16:47:39.759645Z"
    }
   },
   "cell_type": "code",
   "source": [
    "for i in [4,5,21,17,16]:\n",
    "\tprint(f\"{i:06b}\")"
   ],
   "id": "69696c5a57b18363",
   "outputs": [
    {
     "name": "stdout",
     "output_type": "stream",
     "text": [
      "000100\n",
      "000101\n",
      "010101\n",
      "010001\n",
      "010000\n"
     ]
    }
   ],
   "execution_count": 327
  },
  {
   "metadata": {},
   "cell_type": "code",
   "outputs": [],
   "execution_count": null,
   "source": "",
   "id": "475508207f4a3c5d"
  }
 ],
 "metadata": {
  "kernelspec": {
   "display_name": "Python 3",
   "language": "python",
   "name": "python3"
  },
  "language_info": {
   "codemirror_mode": {
    "name": "ipython",
    "version": 2
   },
   "file_extension": ".py",
   "mimetype": "text/x-python",
   "name": "python",
   "nbconvert_exporter": "python",
   "pygments_lexer": "ipython2",
   "version": "2.7.6"
  }
 },
 "nbformat": 4,
 "nbformat_minor": 5
}
