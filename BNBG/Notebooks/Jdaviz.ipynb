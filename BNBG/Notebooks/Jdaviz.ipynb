{
 "cells": [
  {
   "cell_type": "code",
   "execution_count": 1,
   "id": "initial_id",
   "metadata": {
    "ExecuteTime": {
     "end_time": "2025-02-03T15:03:21.814597Z",
     "start_time": "2025-02-03T15:03:21.811367Z"
    }
   },
   "outputs": [],
   "source": [
    "from jdaviz import Specviz2d"
   ]
  },
  {
   "cell_type": "code",
   "execution_count": 8,
   "id": "591811921b40841",
   "metadata": {
    "ExecuteTime": {
     "end_time": "2025-02-03T15:04:20.579830Z",
     "start_time": "2025-02-03T15:04:15.598203Z"
    }
   },
   "outputs": [],
   "source": [
    "specviz2d = Specviz2d()\n",
    "specviz2d.load_data(\"/home/tim-dewachter/Documents/Thèse/BetterNIRSpecBackground/mastDownload/JWST/CEERS-NIRSPEC-P5-PRISM-MSATA/Final/jw01345-o063_s000035030_nirspec_clear-prism_s2d.fits\")"
   ]
  },
  {
   "cell_type": "code",
   "execution_count": 9,
   "id": "19d1706e1c36ab06",
   "metadata": {},
   "outputs": [
    {
     "name": "stdout",
     "output_type": "stream",
     "text": [
      "Help on method show in module jdaviz.core.helpers:\n",
      "\n",
      "show(loc='inline', title=None, height=None) method of jdaviz.configs.specviz2d.helper.Specviz2d instance\n",
      "    Display the Jdaviz application.\n",
      "\n",
      "    Parameters\n",
      "    ----------\n",
      "    loc : str\n",
      "        The display location determines where to present the viz app.\n",
      "        Supported locations:\n",
      "\n",
      "        \"inline\": Display the Jdaviz application inline in a notebook.\n",
      "        Note this is functionally equivalent to displaying the cell\n",
      "        ``viz.app`` in the notebook.\n",
      "\n",
      "        \"sidecar\": Display the Jdaviz application in a separate JupyterLab window from the\n",
      "        notebook, the location of which is decided by the 'anchor.' right is the default\n",
      "\n",
      "            Other anchors:\n",
      "\n",
      "            * ``sidecar:right`` (The default, opens a tab to the right of display)\n",
      "            * ``sidecar:tab-before`` (Full-width tab before the current notebook)\n",
      "            * ``sidecar:tab-after`` (Full-width tab after the current notebook)\n",
      "            * ``sidecar:split-right`` (Split-tab in the same window right of the notebook)\n",
      "            * ``sidecar:split-left`` (Split-tab in the same window left of the notebook)\n",
      "            * ``sidecar:split-top`` (Split-tab in the same window above the notebook)\n",
      "            * ``sidecar:split-bottom`` (Split-tab in the same window below the notebook)\n",
      "\n",
      "            See `jupyterlab-sidecar <https://github.com/jupyter-widgets/jupyterlab-sidecar>`_\n",
      "            for the most up-to-date options.\n",
      "\n",
      "        \"popout\": Display the Jdaviz application in a detached display. By default, a new\n",
      "        window will open. Browser popup permissions required.\n",
      "\n",
      "            Other anchors:\n",
      "\n",
      "            * ``popout:window`` (The default, opens Jdaviz in a new, detached popout)\n",
      "            * ``popout:tab`` (Opens Jdaviz in a new, detached tab in your browser)\n",
      "\n",
      "    title : str, optional\n",
      "        The title of the sidecar tab.  Defaults to the name of the\n",
      "        application; e.g., \"specviz\".\n",
      "\n",
      "        NOTE: Only applicable to a \"sidecar\" display.\n",
      "\n",
      "    height: int, optional\n",
      "        The height of the top-level application widget, in pixels. Applies to all\n",
      "        instances of the same application in the notebook.\n",
      "\n",
      "    Notes\n",
      "    -----\n",
      "    If \"sidecar\" is requested in the \"classic\" Jupyter notebook, the app will appear inline,\n",
      "    as only JupyterLab has a mechanism to have multiple tabs.\n",
      "\n"
     ]
    }
   ],
   "source": [
    "help(specviz2d.show)"
   ]
  },
  {
   "cell_type": "code",
   "execution_count": 10,
   "id": "22d100d8-efdf-4b96-9dbc-7ed6c349cbe1",
   "metadata": {},
   "outputs": [],
   "source": [
    "specviz2d.show(loc=\"sidecar:tab-after\")"
   ]
  },
  {
   "cell_type": "code",
   "execution_count": null,
   "id": "bacb4cab-2f8f-4c16-94c8-246b88f522f9",
   "metadata": {},
   "outputs": [],
   "source": []
  }
 ],
 "metadata": {
  "kernelspec": {
   "display_name": "Python 3 (ipykernel)",
   "language": "python",
   "name": "python3"
  },
  "language_info": {
   "codemirror_mode": {
    "name": "ipython",
    "version": 3
   },
   "file_extension": ".py",
   "mimetype": "text/x-python",
   "name": "python",
   "nbconvert_exporter": "python",
   "pygments_lexer": "ipython3",
   "version": "3.12.8"
  }
 },
 "nbformat": 4,
 "nbformat_minor": 5
}
